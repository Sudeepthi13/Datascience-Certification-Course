{
 "cells": [
  {
   "cell_type": "markdown",
   "id": "823d890c-bd5c-4c94-9973-b5b6d8d1c0c4",
   "metadata": {},
   "source": [
    "# Data Science Tools and Ecosystem\n"
   ]
  },
  {
   "cell_type": "markdown",
   "id": "55c468fe-d4a5-4453-8418-ea85b02a19a3",
   "metadata": {},
   "source": [
    "In this notebook, Data Science Tools and Ecosystem are summarized."
   ]
  },
  {
   "cell_type": "markdown",
   "id": "9cd202f6-52c8-4ebe-b3dd-53287d5e05ae",
   "metadata": {},
   "source": [
    "Some of the popular languages that Data Scientists use are:\n",
    "1. Python\n",
    "2. R\n",
    "3. Scala\n",
    "4. SQL"
   ]
  },
  {
   "cell_type": "markdown",
   "id": "f2be2877-8d28-41e6-b23d-e95a29e4d857",
   "metadata": {},
   "source": [
    "Some of the commonly used libraries used by Data Scientists include:\n",
    "\n",
    "1. Scikit-Learn\n",
    "2. Pandas\n",
    "3. Numpy\n",
    "4. Tensor Flow\n",
    "5. Pytorch"
   ]
  },
  {
   "cell_type": "markdown",
   "id": "80b4ba80-a6e9-4347-b369-8cb667103290",
   "metadata": {},
   "source": [
    "Data Science tools\n",
    "\n",
    "| Jupytor Notebook | RStudio | Apache Zeppelin | "
   ]
  },
  {
   "cell_type": "markdown",
   "id": "b8483492-8a62-46ea-9a2b-70c90eefc5c7",
   "metadata": {},
   "source": [
    "### Below are a few examples of evaluating arithmetic expressions in Python"
   ]
  },
  {
   "cell_type": "code",
   "execution_count": 21,
   "id": "b893ed9f-a026-4fd2-a77b-af453ff3231c",
   "metadata": {},
   "outputs": [
    {
     "data": {
      "text/plain": [
       "17"
      ]
     },
     "execution_count": 21,
     "metadata": {},
     "output_type": "execute_result"
    }
   ],
   "source": [
    "# This a simple arithmetic expression to mutiply then add integers\n",
    "(3*4)+5"
   ]
  },
  {
   "cell_type": "code",
   "execution_count": 23,
   "id": "6ae97bee-17af-410b-b27e-f58f344c5b2d",
   "metadata": {},
   "outputs": [
    {
     "data": {
      "text/plain": [
       "3.3333333333333335"
      ]
     },
     "execution_count": 23,
     "metadata": {},
     "output_type": "execute_result"
    }
   ],
   "source": [
    "#This will convert 200 minutes to hours by diving by 60\n",
    "200/60"
   ]
  },
  {
   "cell_type": "markdown",
   "id": "eb965f7e-ed1b-4419-9a78-6072f340937b",
   "metadata": {},
   "source": [
    "**Objectives:**\n",
    "\n",
    "- List popular languages for Data Science  \n",
    "- Identify commonly used libraries in Data Science  \n",
    "- Demonstrate arithmetic expressions in Python  \n",
    "- Convert units (e.g., minutes to hours) using Python  \n",
    "- Create and format Markdown cells effectively  \n"
   ]
  },
  {
   "cell_type": "code",
   "execution_count": null,
   "id": "c997f106-f8ed-45f8-8a6f-d465b33ceaed",
   "metadata": {},
   "outputs": [],
   "source": [
    "\n"
   ]
  }
 ],
 "metadata": {
  "kernelspec": {
   "display_name": "Python 3 (ipykernel)",
   "language": "python",
   "name": "python3"
  },
  "language_info": {
   "codemirror_mode": {
    "name": "ipython",
    "version": 3
   },
   "file_extension": ".py",
   "mimetype": "text/x-python",
   "name": "python",
   "nbconvert_exporter": "python",
   "pygments_lexer": "ipython3",
   "version": "3.12.7"
  }
 },
 "nbformat": 4,
 "nbformat_minor": 5
}
